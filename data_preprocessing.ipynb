{
  "nbformat": 4,
  "nbformat_minor": 0,
  "metadata": {
    "colab": {
      "name": "data_preprocessing.ipynb",
      "provenance": [],
      "collapsed_sections": []
    },
    "kernelspec": {
      "name": "python3",
      "display_name": "Python 3"
    }
  },
  "cells": [
    {
      "cell_type": "code",
      "metadata": {
        "id": "Op-Y0wD7Uw9V"
      },
      "source": [
        "from google.colab import drive\n",
        "drive.mount('/content/drive')"
      ],
      "execution_count": null,
      "outputs": []
    },
    {
      "cell_type": "code",
      "metadata": {
        "id": "dsOSFcYPVnBh"
      },
      "source": [
        "import pandas as pd\n",
        "import numpy as np\n",
        "import datetime"
      ],
      "execution_count": null,
      "outputs": []
    },
    {
      "cell_type": "code",
      "metadata": {
        "id": "Js956OrjV3aF"
      },
      "source": [
        "data = pd.read_csv('/content/drive/MyDrive/covid-vaccination/data/owid-covid-data2.csv')\n",
        "elcano = pd.read_excel('/content/drive/MyDrive/covid-vaccination/data/Elcano_Royal_Institute-Global_Presence_Requested_Data.xlsx')\n",
        "wdi = pd.read_excel('/content/drive/MyDrive/covid-vaccination/data/wdi.xlsx')\n",
        "gov_eff = pd.read_excel('/content/drive/MyDrive/covid-vaccination/data/gov_eff.xlsx')\n",
        "soft_30 = pd.read_excel('/content/drive/MyDrive/covid-vaccination/data/soft_power_30.xlsx')\n",
        "G_20 = pd.read_excel('/content/drive/MyDrive/covid-vaccination/data/G20_members.xlsx')\n",
        "gov_response = pd.read_excel('/content/drive/MyDrive/covid-vaccination/data/gov+response.xlsx')\n",
        "exports = pd.read_excel('/content/drive/MyDrive/covid-vaccination/data/exports.xlsx')\n",
        "rule_of_law = pd.read_excel('/content/drive/MyDrive/covid-vaccination/data/rule_of_law.xlsx')\n",
        "nato = pd.read_excel('/content/drive/MyDrive/covid-vaccination/data/nato.xlsx')\n",
        "vaccines = pd.read_excel('/content/drive/MyDrive/covid-vaccination/data/definition.xlsx', sheet_name='vaccines')\n",
        "pop65 = pd.read_excel('/content/drive/MyDrive/covid-vaccination/data/pop65.xlsx')\n",
        "eu = pd.read_excel('/content/drive/MyDrive/covid-vaccination/data/eu.xlsx')\n",
        "health_mil_exp = pd.read_excel('/content/drive/MyDrive/covid-vaccination/data/health_mil_exp.xlsx')\n",
        "health_pc = health_mil_exp[health_mil_exp['Series Name']=='health_exp_pc'].rename(columns={'mrv':'health_exp_pc'}).drop(columns=['Series Name', 'Country Name'])\n",
        "mil_total = health_mil_exp[health_mil_exp['Series Name']=='military_total'].rename(columns={'mrv':'military_total'}).drop(columns=['Series Name', 'Country Name'])\n",
        "exp_total = health_mil_exp[health_mil_exp['Series Name']=='exports_total'].rename(columns={'mrv':'exports_total'}).drop(columns=['Series Name', 'Country Name'])\n",
        "gov_eff_bounds = pd.read_excel('/content/drive/MyDrive/covid-vaccination/data/gov_eff_bounds.xlsx')\n",
        "presence_data = pd.read_excel('/content/drive/MyDrive/covid-vaccination/data/presence_data.xlsx')"
      ],
      "execution_count": null,
      "outputs": []
    },
    {
      "cell_type": "code",
      "metadata": {
        "id": "RgwH_oDNV7Mq"
      },
      "source": [
        "data['date'] = pd.to_datetime(data['date'], format=\"%Y/%m/%d\")"
      ],
      "execution_count": null,
      "outputs": []
    },
    {
      "cell_type": "code",
      "metadata": {
        "id": "8x-g2upSTgEa"
      },
      "source": [
        "drop_list = ['nan','OWID_KOS','OWID_WRL','HKG','ABW','BES','VGB','COK','CUW','JEY','KIR','FSM']\n",
        "data.drop(data[data['iso_code'].isin(drop_list)].index, inplace=True)"
      ],
      "execution_count": null,
      "outputs": []
    },
    {
      "cell_type": "code",
      "metadata": {
        "id": "y-q5Ji3ibm_1"
      },
      "source": [
        "data = data[data['location']!='International']"
      ],
      "execution_count": null,
      "outputs": []
    },
    {
      "cell_type": "code",
      "metadata": {
        "id": "mmywBcw0a29S"
      },
      "source": [
        "ends = '2021-05-01'"
      ],
      "execution_count": null,
      "outputs": []
    },
    {
      "cell_type": "code",
      "metadata": {
        "id": "jLFDYIOqsr-9"
      },
      "source": [
        "first_dates = {}\n",
        "\n",
        "for i in pd.unique(data['iso_code']):\n",
        "  if data[(data['iso_code']==i) & (data['date']<=ends)].total_vaccinations.first_valid_index() == None:\n",
        "    first_dates[i] = 'NaN'\n",
        "  else:\n",
        "    first_dates[i] = data.loc[data[(data['iso_code']==i) & (data['date']<=ends)].total_vaccinations.first_valid_index()].date"
      ],
      "execution_count": null,
      "outputs": []
    },
    {
      "cell_type": "code",
      "metadata": {
        "id": "Q5blkLCFxysJ"
      },
      "source": [
        "last_dates = {}\n",
        "\n",
        "for i in pd.unique(data['iso_code']):\n",
        "  if data[(data['iso_code']==i) & (data['date']<=ends)].total_vaccinations.last_valid_index() == None:\n",
        "    last_dates[i] = 'NaN'\n",
        "  else:\n",
        "    last_dates[i] = data.loc[data[(data['iso_code']==i) & (data['date']<=ends)].total_vaccinations.last_valid_index()].date"
      ],
      "execution_count": null,
      "outputs": []
    },
    {
      "cell_type": "code",
      "metadata": {
        "id": "1C7ZOchWC9cq"
      },
      "source": [
        "first_dates_ = pd.DataFrame(first_dates.items()).rename(columns={0: \"iso_code\", 1: \"first_date\"})\n",
        "last_dates_ = pd.DataFrame(last_dates.items()).rename(columns={0: \"iso_code\", 1: \"last_date\"})"
      ],
      "execution_count": null,
      "outputs": []
    },
    {
      "cell_type": "code",
      "metadata": {
        "id": "4GKsxudjF8Jn"
      },
      "source": [
        "first_dates_.fillna('NaN',inplace=True)\n",
        "first_dates_['started_vi'] = (first_dates_['first_date'] != 'NaN').astype(int)"
      ],
      "execution_count": null,
      "outputs": []
    },
    {
      "cell_type": "code",
      "metadata": {
        "id": "Zy75NSKPF-_3"
      },
      "source": [
        "last_dates_.fillna('NaN',inplace=True)\n",
        "last_dates_['ended_vi'] = (last_dates_['last_date'] != 'NaN').astype(int)"
      ],
      "execution_count": null,
      "outputs": []
    },
    {
      "cell_type": "code",
      "metadata": {
        "id": "9A0yFUX_Gg5C"
      },
      "source": [
        "date_estimation = pd.merge(first_dates_,\n",
        "                           last_dates_,\n",
        "                           on='iso_code',\n",
        "                           how='inner')\n",
        "\n",
        "dates = date_estimation[date_estimation['started_vi']==1]"
      ],
      "execution_count": null,
      "outputs": []
    },
    {
      "cell_type": "code",
      "metadata": {
        "id": "mvPdcxhVfpIj"
      },
      "source": [
        "dates['days'] = dates.last_date - dates.first_date\n",
        "dates = dates[['iso_code','days']]\n",
        "dates.days = dates.days.astype('timedelta64[D]')"
      ],
      "execution_count": null,
      "outputs": []
    },
    {
      "cell_type": "code",
      "metadata": {
        "id": "JGCqAk3YgyFW"
      },
      "source": [
        "last_dates_.fillna('NaN',inplace=True)"
      ],
      "execution_count": null,
      "outputs": []
    },
    {
      "cell_type": "code",
      "metadata": {
        "id": "lirl2WmaIuDn"
      },
      "source": [
        "end_indices = []\n",
        "\n",
        "for i in pd.unique(data['iso_code']):\n",
        "\n",
        "  if last_dates_[last_dates_['iso_code']==i].last_date.values[0] != 'NaN':\n",
        "    end_indices.append(data[(data['iso_code']==i) & (data['date']==list(pd.to_datetime(last_dates_[last_dates_['iso_code']==i].last_date))[0].strftime('%Y/%m/%d'))].index[0])\n",
        "  elif len(data[(data['iso_code']==i) & (data['date']==ends)]) > 0:\n",
        "    end_indices.append(data[(data['iso_code']==i) & (data['date']==ends)].index[0])\n",
        "  else:\n",
        "    continue"
      ],
      "execution_count": null,
      "outputs": []
    },
    {
      "cell_type": "code",
      "metadata": {
        "id": "6VLgSsjdY7mF"
      },
      "source": [
        "data_ = data[data.index.isin(end_indices)]"
      ],
      "execution_count": null,
      "outputs": []
    },
    {
      "cell_type": "code",
      "metadata": {
        "id": "y2i6h7D2eQV-"
      },
      "source": [
        "variables = ['iso_code','location','total_cases_per_million','total_deaths_per_million','total_vaccinations','total_vaccinations_per_hundred','population', 'population_density','aged_65_older',\n",
        "         'gdp_per_capita','life_expectancy', 'human_development_index']\n",
        "data_ = data_[variables]"
      ],
      "execution_count": null,
      "outputs": []
    },
    {
      "cell_type": "code",
      "metadata": {
        "id": "Ty3IeUEChyqy"
      },
      "source": [
        "data_1 = pd.merge(data_,\n",
        "                  dates,\n",
        "                  on='iso_code',\n",
        "                  how='left')"
      ],
      "execution_count": null,
      "outputs": []
    },
    {
      "cell_type": "code",
      "metadata": {
        "id": "Fce2NINNHTNB"
      },
      "source": [
        "data_2 = pd.merge(data_1,\n",
        "         wdi,\n",
        "         on='iso_code',\n",
        "         how='left')"
      ],
      "execution_count": null,
      "outputs": []
    },
    {
      "cell_type": "code",
      "metadata": {
        "id": "41PYkbh8S8ib"
      },
      "source": [
        "data_2.drop(columns=['country'], inplace=True)"
      ],
      "execution_count": null,
      "outputs": []
    },
    {
      "cell_type": "code",
      "metadata": {
        "id": "fKAXUFN8Txl0"
      },
      "source": [
        "data_3 = pd.merge(data_2,\n",
        "                  gov_eff,\n",
        "                  on='iso_code',\n",
        "                  how='left')"
      ],
      "execution_count": null,
      "outputs": []
    },
    {
      "cell_type": "code",
      "metadata": {
        "id": "Oqn-tGOYUPPi"
      },
      "source": [
        "data_3.drop(columns=['country'], inplace=True)"
      ],
      "execution_count": null,
      "outputs": []
    },
    {
      "cell_type": "code",
      "metadata": {
        "id": "tgVnwAxvUQQa"
      },
      "source": [
        "data_4 = pd.merge(data_3,\n",
        "                  elcano,\n",
        "                  left_on='location',\n",
        "                  right_on='country',\n",
        "                  how='left')"
      ],
      "execution_count": null,
      "outputs": []
    },
    {
      "cell_type": "code",
      "metadata": {
        "id": "RkvRjiAmUgxp"
      },
      "source": [
        "data_4.rename(columns={2019:'elcano_index'}, inplace=True)"
      ],
      "execution_count": null,
      "outputs": []
    },
    {
      "cell_type": "code",
      "metadata": {
        "id": "evmbsw8PUhpF"
      },
      "source": [
        "data_4.drop(columns=['country'], inplace=True)"
      ],
      "execution_count": null,
      "outputs": []
    },
    {
      "cell_type": "code",
      "metadata": {
        "id": "skTOY5puUy4C"
      },
      "source": [
        "data_5 = pd.merge(data_4,\n",
        "                  first_dates_,\n",
        "                  on='iso_code',\n",
        "                  how='left')"
      ],
      "execution_count": null,
      "outputs": []
    },
    {
      "cell_type": "code",
      "metadata": {
        "id": "BQ9qMCIDU87a"
      },
      "source": [
        "data_6 = pd.merge(data_5,\n",
        "         soft_30,\n",
        "         on='iso_code',\n",
        "         how='left')"
      ],
      "execution_count": null,
      "outputs": []
    },
    {
      "cell_type": "code",
      "metadata": {
        "id": "NQKfM4zSWUmo"
      },
      "source": [
        "data_6.drop(columns=['value'], inplace=True)\n",
        "data_6.rename(columns={'country':'soft_30'}, inplace=True)"
      ],
      "execution_count": null,
      "outputs": []
    },
    {
      "cell_type": "code",
      "metadata": {
        "id": "1Nd7A-SMW28B"
      },
      "source": [
        "data_6['soft_30'] = data_6['soft_30'].notnull().astype('int')"
      ],
      "execution_count": null,
      "outputs": []
    },
    {
      "cell_type": "code",
      "metadata": {
        "id": "yk270qraXlpu"
      },
      "source": [
        "data_7 = pd.merge(data_6,\n",
        "                  G_20,\n",
        "                  on='iso_code',\n",
        "                  how='left')"
      ],
      "execution_count": null,
      "outputs": []
    },
    {
      "cell_type": "code",
      "metadata": {
        "id": "QBtXNB8aYGO0"
      },
      "source": [
        "data_7.rename(columns={'country':'G_20_member'}, inplace=True)"
      ],
      "execution_count": null,
      "outputs": []
    },
    {
      "cell_type": "code",
      "metadata": {
        "id": "G780llNRYHUG"
      },
      "source": [
        "data_7['G_20_member'] = data_7['G_20_member'].notnull().astype('int')"
      ],
      "execution_count": null,
      "outputs": []
    },
    {
      "cell_type": "code",
      "metadata": {
        "id": "FSd4jz7oYiQG"
      },
      "source": [
        "data_7.drop(columns=['first_date'], inplace=True)"
      ],
      "execution_count": null,
      "outputs": []
    },
    {
      "cell_type": "code",
      "metadata": {
        "id": "MbGb61QLaElG"
      },
      "source": [
        "data_7 = pd.merge(data_7,\n",
        "                  health_pc,\n",
        "                  on='iso_code',\n",
        "                  how='left')"
      ],
      "execution_count": null,
      "outputs": []
    },
    {
      "cell_type": "code",
      "metadata": {
        "id": "FMv9lqSsaNQ0"
      },
      "source": [
        "data_7 = pd.merge(data_7,\n",
        "                  mil_total,\n",
        "                  on='iso_code',\n",
        "                  how='left')"
      ],
      "execution_count": null,
      "outputs": []
    },
    {
      "cell_type": "code",
      "metadata": {
        "id": "Znbtrp67aTfn"
      },
      "source": [
        "data_7 = pd.merge(data_7,\n",
        "                  exp_total,\n",
        "                  on='iso_code',\n",
        "                  how='left')"
      ],
      "execution_count": null,
      "outputs": []
    },
    {
      "cell_type": "code",
      "metadata": {
        "id": "Fr27YPvEVGMr"
      },
      "source": [
        "data_8 = pd.merge(data_7,\n",
        "                  exports,\n",
        "                  on='iso_code',\n",
        "                  how='left')"
      ],
      "execution_count": null,
      "outputs": []
    },
    {
      "cell_type": "code",
      "metadata": {
        "id": "DKeR9UR-Xwhy"
      },
      "source": [
        "data_9 = pd.merge(data_8,\n",
        "                  rule_of_law,\n",
        "                  on='iso_code',\n",
        "                  how='left')"
      ],
      "execution_count": null,
      "outputs": []
    },
    {
      "cell_type": "code",
      "metadata": {
        "id": "f832EZk1E6Fa"
      },
      "source": [
        "data_9 = pd.merge(data_9,\n",
        "                  pop65,\n",
        "                  left_on='iso_code',\n",
        "                  right_on='country_code',\n",
        "                  how='left')"
      ],
      "execution_count": null,
      "outputs": []
    },
    {
      "cell_type": "code",
      "metadata": {
        "id": "vqN9brneaiwo"
      },
      "source": [
        "data_9 = pd.merge(data_9,\n",
        "                  gov_eff_bounds,\n",
        "                  on='iso_code',\n",
        "                  how='left')"
      ],
      "execution_count": null,
      "outputs": []
    },
    {
      "cell_type": "code",
      "metadata": {
        "id": "wWJlHQR-mxjV"
      },
      "source": [
        "data_10 = data_9.replace('..', np.nan)"
      ],
      "execution_count": null,
      "outputs": []
    },
    {
      "cell_type": "code",
      "metadata": {
        "id": "BS-uSK0AJJHF"
      },
      "source": [
        "data_11 = data_10.replace('...', np.nan)"
      ],
      "execution_count": null,
      "outputs": []
    },
    {
      "cell_type": "code",
      "metadata": {
        "id": "YapDDNbAJ0mx"
      },
      "source": [
        "data_12 = pd.merge(data_11,\n",
        "                   gov_response,\n",
        "                   on='iso_code',\n",
        "                   how='left')"
      ],
      "execution_count": null,
      "outputs": []
    },
    {
      "cell_type": "code",
      "metadata": {
        "id": "7Rmy-MqDpZRz"
      },
      "source": [
        "data_14 = pd.merge(data_12,\n",
        "                   eu,\n",
        "                   left_on='iso_code',\n",
        "                   right_on='code',\n",
        "                   how='left')"
      ],
      "execution_count": null,
      "outputs": []
    },
    {
      "cell_type": "code",
      "metadata": {
        "id": "5GOHyDW7p3so"
      },
      "source": [
        "data_14.rename(columns={'Name':'eu'}, inplace=True)\n",
        "data_14['eu'] = data_14['eu'].notnull().astype('int')\n",
        "\n",
        "#data_7.drop(columns=['first_date'], inplace=True)"
      ],
      "execution_count": null,
      "outputs": []
    },
    {
      "cell_type": "code",
      "metadata": {
        "id": "f_oEHp4-b9ix"
      },
      "source": [
        "data_14['military_pc'] = data_14['military_total'] / data_14['population']\n",
        "data_14['exports_pc'] = data_14['exports_total'] / data_14['population']"
      ],
      "execution_count": null,
      "outputs": []
    },
    {
      "cell_type": "code",
      "metadata": {
        "id": "xh-6da8_aGgm"
      },
      "source": [
        "data_14 = pd.merge(data_14,\n",
        "                   presence_data,\n",
        "                   left_on=['iso_code'],\n",
        "                   right_on=['iso_code'],\n",
        "                   how='left')"
      ],
      "execution_count": null,
      "outputs": []
    },
    {
      "cell_type": "markdown",
      "metadata": {
        "id": "AvhCIcVbZkFK"
      },
      "source": [
        "If you want to get the data for eu-weighted robustness: run from here:"
      ]
    },
    {
      "cell_type": "code",
      "metadata": {
        "id": "7zpO9XvbJaUM"
      },
      "source": [
        "data_14['gdp_pc_euw'] = np.where(data_14['eu']==1, data_14['weight'] * data_14['GDP per capita, PPP (current international $)'], data_14['GDP per capita, PPP (current international $)'])"
      ],
      "execution_count": null,
      "outputs": []
    },
    {
      "cell_type": "code",
      "metadata": {
        "id": "5s6WlX_VOINv"
      },
      "source": [
        "data_14['mil_exp_euw'] = np.where(data_14['eu']==1, data_14['weight'] * data_14['Military expenditure (% of GDP)'], data_14['Military expenditure (% of GDP)'])"
      ],
      "execution_count": null,
      "outputs": []
    },
    {
      "cell_type": "code",
      "metadata": {
        "id": "YgAhxZxYPCMl"
      },
      "source": [
        "data_14['health_exp_euw'] = np.where(data_14['eu']==1, data_14['weight'] * data_14['Current health expenditure (% of GDP)'], data_14['Current health expenditure (% of GDP)'])"
      ],
      "execution_count": null,
      "outputs": []
    },
    {
      "cell_type": "code",
      "metadata": {
        "id": "buUQCqI5PC2L"
      },
      "source": [
        "data_14['exports_euw'] = np.where(data_14['eu']==1, data_14['weight'] * data_14['exports'], data_14['exports'])"
      ],
      "execution_count": null,
      "outputs": []
    },
    {
      "cell_type": "code",
      "metadata": {
        "id": "Xkq-fZmPgbmc"
      },
      "source": [
        "data_14['gov_eff_euw'] = np.where(data_14['eu']==1, data_14['weight'] * data_14['gov_eff'], data_14['gov_eff'])"
      ],
      "execution_count": null,
      "outputs": []
    },
    {
      "cell_type": "markdown",
      "metadata": {
        "id": "oi0enAQ4ZxiN"
      },
      "source": [
        "... to here"
      ]
    },
    {
      "cell_type": "code",
      "metadata": {
        "id": "E3FWXkd4hpg0"
      },
      "source": [
        "data_14['cty_out'] = np.where((data_14['location']=='China') | (data_14['location']=='Russia'),0,1)"
      ],
      "execution_count": null,
      "outputs": []
    },
    {
      "cell_type": "markdown",
      "metadata": {
        "id": "3NKVI1qyZ1Qx"
      },
      "source": [
        "If you want the robustness to control for over 20% vaccinated population, run this:"
      ]
    },
    {
      "cell_type": "code",
      "metadata": {
        "id": "CQDoM_r0bpSO"
      },
      "source": [
        "data_14['over_20'] = np.where(data_14['total_vaccinations'] / data_14['population'] > 0.2,1,0)"
      ],
      "execution_count": null,
      "outputs": []
    },
    {
      "cell_type": "markdown",
      "metadata": {
        "id": "ZkRUjIJTZ8vR"
      },
      "source": [
        "Run this if you chose to get data for eu-weighted robustness:"
      ]
    },
    {
      "cell_type": "code",
      "metadata": {
        "id": "7X61I2dHjhly"
      },
      "source": [
        "euw_cty = {'iso_code':'EU',\n",
        "           'health_exp_euw':np.sum(data_14[data_14['eu']==1]['health_exp_euw']),\n",
        "           'mil_exp_euw':np.sum(data_14[data_14['eu']==1]['mil_exp_euw']),\n",
        "           'gdp_pc_euw':np.sum(data_14[data_14['eu']==1]['gdp_pc_euw']),\n",
        "           'exports_euw':np.sum(data_14[data_14['eu']==1]['exports_euw']),\n",
        "           'gov_eff_euw':np.sum(data_14[data_14['eu']==1]['gov_eff_euw']),\n",
        "           'eu':0,\n",
        "           'total_cases_per_million':np.array(data_14[data_14['iso_code']=='OWID_EUN']['total_cases_per_million'])[0],\n",
        "           'total_deaths_per_million':np.array(data_14[data_14['iso_code']=='OWID_EUN']['total_deaths_per_million'])[0],\n",
        "           'total_vaccinations':np.array(data_14[data_14['iso_code']=='OWID_EUN']['total_vaccinations'])[0],\n",
        "           'total_vaccinations_per_hundred':np.array(data_14[data_14['iso_code']=='OWID_EUN']['total_vaccinations_per_hundred'])[0],\n",
        "           'days':np.array(data_14[data_14['iso_code']=='OWID_EUN']['days'])[0],\n",
        "           'soft_30':1}\n",
        "\n",
        "data_14 = data_14.append(euw_cty, ignore_index=True)"
      ],
      "execution_count": null,
      "outputs": []
    },
    {
      "cell_type": "code",
      "metadata": {
        "id": "QpIBiiIbgsOQ"
      },
      "source": [
        "drop_list = ['OWID_AFR','OWID_ASI','OWID_EUR','OWID_NAM','OWID_CYN','OWID_OCE','OWID_SAM','OWID_EUN']\n",
        "data_14.drop(data_14[data_14['iso_code'].isin(drop_list)].index, inplace=True)"
      ],
      "execution_count": null,
      "outputs": []
    },
    {
      "cell_type": "markdown",
      "metadata": {
        "id": "i2Z4-lqLaKvW"
      },
      "source": [
        "Run this if you chose to get data for eu-weighted robustness:"
      ]
    },
    {
      "cell_type": "code",
      "metadata": {
        "id": "gI_CP6ZvhjE_"
      },
      "source": [
        "data_14 = data_14[data_14['eu']==0]"
      ],
      "execution_count": null,
      "outputs": []
    },
    {
      "cell_type": "markdown",
      "metadata": {
        "id": "zTW53PnkaQov"
      },
      "source": [
        "Export your dataset:"
      ]
    },
    {
      "cell_type": "code",
      "metadata": {
        "id": "WStExMfO1pEB"
      },
      "source": [
        "data_14.to_excel('/content/drive/MyDrive/covid-vaccination/data/estimation_data_0501_euw.xlsx')"
      ],
      "execution_count": null,
      "outputs": []
    },
    {
      "cell_type": "markdown",
      "metadata": {
        "id": "hghJKqQQaZpT"
      },
      "source": [
        "From here onwards, figures and descriptive stats: "
      ]
    },
    {
      "cell_type": "code",
      "metadata": {
        "id": "f8M9mWdlajZO"
      },
      "source": [
        "data_12 = data_14"
      ],
      "execution_count": null,
      "outputs": []
    },
    {
      "cell_type": "code",
      "metadata": {
        "id": "VCC3TqZ7VPoZ"
      },
      "source": [
        "corr_data = pd.DataFrame()\n",
        "\n",
        "corr_data['lvaccinations'] = np.log(data_12['total_vaccinations_per_hundred'])\n",
        "corr_data['lcases'] = np.log(data_12['total_cases_per_million'])\n",
        "corr_data['days'] = data_12['days']\n",
        "corr_data['lgov_response'] = np.log(data_12['gov_response'])\n",
        "corr_data['gov_eff'] = data_12['gov_eff']\n",
        "corr_data['soft_presence'] = data_12['soft_presence']\n",
        "corr_data['trade'] = data_12['Trade (% of GDP)']\n",
        "corr_data['lhealth'] = np.log(data_12['health_exp_pc'])\n",
        "corr_data['lgdp_ppp_pc'] = np.log(data_12['GDP per capita, PPP (current international $)'])\n",
        "corr_data['lmilitary'] = np.log(data_12['military_pc'])\n",
        "corr_data['lexports'] = np.log(data_12['exports_pc'])\n",
        "corr_data['lpop65'] = np.log(data_12['aged_65_older'])\n",
        "corr_data['life_expectancy'] = np.log(data_12['life_expectancy'])\n",
        "corr_data['GINI'] = np.log(data_12['GINI'])\n",
        "corr_data['physicians'] = np.log(data_12['Physicians (per 1,000 people)'])"
      ],
      "execution_count": null,
      "outputs": []
    },
    {
      "cell_type": "code",
      "metadata": {
        "id": "c8s8ABZcVKKJ"
      },
      "source": [
        "import seaborn as sns\n",
        "import matplotlib.pyplot as plt\n",
        "\n",
        "%matplotlib inline"
      ],
      "execution_count": null,
      "outputs": []
    },
    {
      "cell_type": "code",
      "metadata": {
        "id": "zk2pyKbKZHWI"
      },
      "source": [
        "f, ax = plt.subplots(figsize=(16, 10))\n",
        "\n",
        "corr = corr_data.corr()\n",
        "ax = sns.heatmap(\n",
        "    corr, \n",
        "    vmin=-1, vmax=1, center=0,\n",
        "    cmap=sns.diverging_palette(20, 220, n=200),\n",
        "    square=True,\n",
        "    annot=True,\n",
        "    annot_kws={\"fontsize\":12}  \n",
        ")\n",
        "ax.set_xticklabels(\n",
        "    ax.get_xticklabels(),\n",
        "    rotation=45,\n",
        "    horizontalalignment='right'\n",
        ");\n",
        "\n",
        "#sns.set(font_scale=10)\n",
        "plt.savefig(\"corr_map.png\")"
      ],
      "execution_count": null,
      "outputs": []
    },
    {
      "cell_type": "markdown",
      "metadata": {
        "id": "mI2LGt5E48FG"
      },
      "source": [
        "Summary..."
      ]
    },
    {
      "cell_type": "code",
      "metadata": {
        "id": "tMKSKTt0x1jS"
      },
      "source": [
        "summary_data = pd.read_excel('/content/drive/MyDrive/covid-vaccination/data/estimation_data_0401.xlsx')"
      ],
      "execution_count": null,
      "outputs": []
    },
    {
      "cell_type": "code",
      "metadata": {
        "id": "GnNJwOXV5ieG"
      },
      "source": [
        "summary_data['gdp'] = summary_data['GDP per capita, PPP (current international $)'] * summary_data['population']"
      ],
      "execution_count": null,
      "outputs": []
    },
    {
      "cell_type": "code",
      "metadata": {
        "id": "oIeAavXERlCW"
      },
      "source": [
        "summary_data['cases'] = np.log(summary_data['cases'])\n",
        "summary_data['gov_respose'] = np.log(summary_data['gov_response'])\n",
        "summary_data['exports'] = np.log(summary_data['exports'])\n",
        "summary_data['health_exp'] = np.log(summary_data['health_exp'])\n",
        "summary_data['military'] = np.log(summary_data['military'])\n",
        "summary_data['pop65'] = np.log(summary_data['pop65'])\n",
        "summary_data['vi_per_hundred'] = np.log(summary_data['vi_per_hundred'])\n",
        "summary_data['gdp_ppp_pc'] = np.log(summary_data['gdp_ppp_pc'])"
      ],
      "execution_count": null,
      "outputs": []
    },
    {
      "cell_type": "code",
      "metadata": {
        "id": "1FxgAMwEsqzS"
      },
      "source": [
        "summary_data.columns"
      ],
      "execution_count": null,
      "outputs": []
    },
    {
      "cell_type": "code",
      "metadata": {
        "id": "_sDyf2MFZ5Uv"
      },
      "source": [
        "summary_data = pd.read_excel('/content/drive/MyDrive/covid-vaccination/data/estimation_data_0401.xlsx')"
      ],
      "execution_count": null,
      "outputs": []
    },
    {
      "cell_type": "code",
      "metadata": {
        "id": "rMxA-JBqPt1K"
      },
      "source": [
        "a = summary_data[['iso_code', 'location','total_cases_per_million',\n",
        "              'gov_eff', 'soft_presence', 'gov_response','health_exp_pc','military_pc',\n",
        "              'GDP per capita, PPP (current international $)','pop65','exports_pc','started_vi']].dropna()"
      ],
      "execution_count": null,
      "outputs": []
    },
    {
      "cell_type": "code",
      "metadata": {
        "id": "X8Ox6j7DwE7c"
      },
      "source": [
        "iso_codes = list(a[a['started_vi']==1].iso_code)"
      ],
      "execution_count": null,
      "outputs": []
    },
    {
      "cell_type": "code",
      "metadata": {
        "id": "TAFpRStP594K"
      },
      "source": [
        "pd.DataFrame(a.groupby('started_vi').agg({'total_cases_per_million':[np.mean, np.std],\n",
        "                                        'gov_response':[np.mean, np.std],\n",
        "                                        'exports_pc':[np.mean, np.std],\n",
        "                                        'health_exp_pc':[np.mean, np.std],\n",
        "                                        'military_pc':[np.mean, np.std], \n",
        "                                        'gov_eff':[np.mean, np.std],\n",
        "                                        #'total_vaccinations_per_hundred':[np.mean, np.std],\n",
        "                                        'pop65':[np.mean, np.std],\n",
        "                                        #'days':[np.mean, np.std],\n",
        "                                        'GDP per capita, PPP (current international $)':[np.mean, np.std],\n",
        "                                        'soft_presence':[np.mean, np.std]}).T)#.to_excel('/content/drive/MyDrive/covid-vaccination/results/summary_1208.xlsx')"
      ],
      "execution_count": null,
      "outputs": []
    },
    {
      "cell_type": "code",
      "metadata": {
        "id": "aw5ORXD_6lYt"
      },
      "source": [
        "import matplotlib.pyplot as plt\n",
        "import seaborn as sns\n",
        "from scipy import stats"
      ],
      "execution_count": null,
      "outputs": []
    },
    {
      "cell_type": "code",
      "metadata": {
        "id": "nKZ_IJlkiH4P"
      },
      "source": [
        "lreg_data = summary_data[['soft_presence','started_vi']].dropna()"
      ],
      "execution_count": null,
      "outputs": []
    },
    {
      "cell_type": "code",
      "metadata": {
        "id": "HzMqqnvf9fsd"
      },
      "source": [
        "lreg_data['soft_presence'] = np.log(lreg_data['soft_presence'])"
      ],
      "execution_count": null,
      "outputs": []
    },
    {
      "cell_type": "code",
      "metadata": {
        "id": "4wNaUqIXKe48"
      },
      "source": [
        "sns.set_theme(style=\"darkgrid\")\n",
        "\n",
        "ax = sns.scatterplot(data=lreg_data, x=\"soft_presence\", y=\"started_vi\", s=100)\n",
        "g = sns.regplot(data=lreg_data, x=\"soft_presence\", y=\"started_vi\", scatter=False, ax=ax, logistic=True)\n",
        "\n",
        "g.figure.set_size_inches(10,7)\n",
        "\n",
        "\n",
        "plt.xlabel('$GDP$ $(PPP)$ $per$ $capita$ $(log)$', fontsize=15)\n",
        "plt.ylabel('$Started$ $vaccination$', fontsize=15)\n",
        "plt.savefig(\"started_gdp2.png\")"
      ],
      "execution_count": null,
      "outputs": []
    },
    {
      "cell_type": "code",
      "metadata": {
        "id": "zCPwtYka83Vs"
      },
      "source": [
        "fig_data = summary_data[['started_vi','soft_presence']].dropna()"
      ],
      "execution_count": null,
      "outputs": []
    },
    {
      "cell_type": "code",
      "metadata": {
        "id": "9PvRZDmZ9Ecw"
      },
      "source": [
        "import seaborn as sns\n",
        "import matplotlib.pyplot as plt"
      ],
      "execution_count": null,
      "outputs": []
    },
    {
      "cell_type": "code",
      "metadata": {
        "id": "8wybXOoVDlxB"
      },
      "source": [
        "fig_data_ = fig_data[fig_data['soft_presence']<200]\n",
        "\n",
        "print(len(fig_data))\n",
        "print(len(fig_data_))"
      ],
      "execution_count": null,
      "outputs": []
    },
    {
      "cell_type": "code",
      "metadata": {
        "id": "h7uOJwkQeVW8"
      },
      "source": [
        "import seaborn as sns\n",
        "\n",
        "ax = sns.boxplot(x=\"started_vi\", y='soft_presence',\n",
        "                 data=fig_data_)\n",
        "\n",
        "plt.xlabel('$Started$ $vaccination$', fontsize=15)\n",
        "plt.ylabel('$Soft$ $presence$', fontsize=15)\n",
        "plt.xticks([0, 1], ['$No$', '$Yes$'], fontsize=12)\n",
        "ax.figure.set_size_inches(10,7)\n",
        "plt.savefig(\"started_soft.png\")"
      ],
      "execution_count": null,
      "outputs": []
    },
    {
      "cell_type": "code",
      "metadata": {
        "id": "dUfZqtXPDgni"
      },
      "source": [
        "fig_data['started_vi'].value_counts()"
      ],
      "execution_count": null,
      "outputs": []
    },
    {
      "cell_type": "code",
      "metadata": {
        "id": "GVJWFcuy8rj9"
      },
      "source": [
        "summary_data['lvaccinations'] = summary_data['total_vaccinations_per_hundred']"
      ],
      "execution_count": null,
      "outputs": []
    },
    {
      "cell_type": "code",
      "metadata": {
        "id": "jaFLeT9NE9jM"
      },
      "source": [
        "#summary_data = summary_data[summary_data['lvaccinations']<=30]"
      ],
      "execution_count": null,
      "outputs": []
    },
    {
      "cell_type": "code",
      "metadata": {
        "id": "i9VuNgffhRw6"
      },
      "source": [
        "fig_data = summary_data[summary_data['iso_code'].isin(iso_codes)]"
      ],
      "execution_count": null,
      "outputs": []
    },
    {
      "cell_type": "code",
      "metadata": {
        "id": "3cDGjm6y_971"
      },
      "source": [
        "fig_data = fig_data[['iso_code','lvaccinations','gov_eff']].dropna()"
      ],
      "execution_count": null,
      "outputs": []
    },
    {
      "cell_type": "code",
      "metadata": {
        "id": "Nqz2r2hPr19y"
      },
      "source": [
        "pd.DataFrame(pd.merge(fig_data,\n",
        "         summary_data,\n",
        "         on='iso_code',\n",
        "         how='inner').location).to_excel('/content/drive/MyDrive/covid-vaccination/results/started_countries.xlsx')"
      ],
      "execution_count": null,
      "outputs": []
    },
    {
      "cell_type": "code",
      "metadata": {
        "id": "Fgrox4Z41dc6"
      },
      "source": [
        "fig_data['lvaccinations'] = np.where(fig_data['lvaccinations']==0, 1, fig_data['lvaccinations'])"
      ],
      "execution_count": null,
      "outputs": []
    },
    {
      "cell_type": "code",
      "metadata": {
        "id": "9uz3rJHSBQqy"
      },
      "source": [
        "fig_data['lvaccinations'] = np.where(fig_data['lvaccinations']==-np.inf, 0, fig_data['lvaccinations'])"
      ],
      "execution_count": null,
      "outputs": []
    },
    {
      "cell_type": "code",
      "metadata": {
        "id": "0w1jdGZpzZo0"
      },
      "source": [
        "x_data = fig_data.gov_eff\n",
        "y_data = fig_data.lvaccinations\n",
        "\n",
        "from scipy import stats"
      ],
      "execution_count": null,
      "outputs": []
    },
    {
      "cell_type": "code",
      "metadata": {
        "id": "q9Ofki3azx3C"
      },
      "source": [
        "import matplotlib.pyplot as plt\n",
        "import seaborn as sns\n",
        "import scipy as sp"
      ],
      "execution_count": null,
      "outputs": []
    },
    {
      "cell_type": "code",
      "metadata": {
        "id": "rEcJ_blYzGXS"
      },
      "source": [
        "def regress(x, y):\n",
        "    \"\"\"Return a tuple of predicted y values and parameters for linear regression.\"\"\"\n",
        "    p = stats.linregress(x, y)\n",
        "    b1, b0, r, p_val, stderr = p\n",
        "    y_pred = sp.polyval([b1, b0], x)\n",
        "    return y_pred, p\n",
        "\n",
        "x, y = x_data, y_data                            # data, non-transformed\n",
        "y_pred, _ = regress(x, np.log(y))                 # transformed input             \n",
        "\n",
        "\n",
        "sns.set_theme(style=\"darkgrid\")\n",
        "\n",
        "plt.figure(figsize=(10,6))\n",
        "sns.set_context(\"paper\", font_scale=1.5, rc={\"lines.linewidth\": 2.5})\n",
        "plt.plot(x, y, \"o\", label=\"Data\", markersize=10)\n",
        "plt.plot(x, np.exp(y_pred), \"--\", label=\"Fitted\", color='r') # transformed output\n",
        "plt.xlabel(\"$Government$ $effectiveness$\")\n",
        "plt.ylabel(\"$Vaccinations$ $p.h.p.$\")\n",
        "plt.semilogy()\n",
        "plt.legend()\n",
        "plt.savefig(\"vacc_gov_eff.png\")"
      ],
      "execution_count": null,
      "outputs": []
    },
    {
      "cell_type": "code",
      "metadata": {
        "id": "acoPF2Qe9xOa"
      },
      "source": [
        ""
      ],
      "execution_count": null,
      "outputs": []
    }
  ]
}